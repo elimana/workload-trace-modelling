{
 "metadata": {
  "language_info": {
   "codemirror_mode": {
    "name": "ipython",
    "version": 3
   },
   "file_extension": ".py",
   "mimetype": "text/x-python",
   "name": "python",
   "nbconvert_exporter": "python",
   "pygments_lexer": "ipython3",
   "version": "3.8.5"
  },
  "orig_nbformat": 4,
  "kernelspec": {
   "name": "python3",
   "display_name": "Python 3.8.5 64-bit ('env')"
  },
  "interpreter": {
   "hash": "7119993c28d95d56082915c7546e8637ddd2204a19f6b326e12c7d188dffc235"
  }
 },
 "nbformat": 4,
 "nbformat_minor": 2,
 "cells": [
  {
   "source": [
    "# Data analysis of server(s) workload jobs\n",
    "\n",
    "## Interpreting the data\n",
    "\n",
    "If we take a look at the Yahoo! trace, the provided format is `job_submission_time` `nr_of_tasks_in_job` `average_task_duration` `the_runtime_of_each_task`. This only allows us to model the \"Job Arrival Process\" \\[1], ie. the Arrival Rate, Inter-arrival Time, and Actual Runtime. However, Job Cancellation is unknown and cannot be measured from these traces. Additionally, we can analyse the job modelling characteristics Bag Of Tasks, Burstiness, and Periodicity \\[1]. \"Job Execution Process\" \\[1] details such as Job Size (# Cores), Memory Usage, and User Behaviour are not recorded in the trace, and thus cannot be analysed.\n",
    "\n",
    "## Problems with the trace data\n",
    "\n",
    "When examining the `job_submission_time` and `the_runtime_of_each_task` fields of the trace, the time increment is not specified. This information is important to determine to accurately interperet the data. When looking at the source for the Yahoo! workload trace \\[2], the  trace comes from a cluster of approximately 2000 machines at Yahoo! (YH trace), covers three weeks in late February 2009 and early March 2009, and contains around 30,000 jobs. It also details that the running time is in task-seconds of map and reduce functions. Thus, for the `the_runtime_of_each_task` field, we can make the assumption that the floating point number is in seconds. If we make the assumption that the `job_submission_time`, we would expect the last job submission time to be close to the number of seconds in 3 weeks, which is `60 x 60 x 24 x 7 x 3 = 1814400`. When looking at the last job record in the Yahoo! trace `YH.tr`, the `job_submission_time` is 181440, thus we can make the assumption that the submission time is measure in tens of seconds.\n",
    "\n",
    "Unfortunately, when doing the same thing for the Facebook trace `FB.tr`, the last job record has a submit time of 388171, this is vastly different to the number of seconds in 6 months, which is approximately `60 x 60 x 24 x 30 x 6 = 15552000`. It also shares no regular pattern to the last job submit time. This issue of unknown time units must be resolved before analysing the Facebook trace, and potentially the other traces.\n",
    "\n",
    "*\\[1] F. Ian, \"WORKLOAD CHARACTERISATION FOR CLOUD RESOURCE MANAGEMENT,\" School of Engineering Macquarie University, 2020, pp. 4-7.*\n",
    " \n",
    "*\\[2] Y. Chen, A. Ganapathi, R. Griffith and R. Katz, \"The Case for Evaluating MapReduce Performance Using Workload Suites,\" 2011 IEEE 19th Annual International Symposium on Modelling, Analysis, and Simulation of Computer and Telecommunication Systems, 2011, pp. 390-399, doi: 10.1109/MASCOTS.2011.12.*"
   ],
   "cell_type": "markdown",
   "metadata": {}
  },
  {
   "source": [
    "## Importing the data\n",
    "\n",
    "The first step is to import the data from the `jobs.csv` file. This file is generated from the `*.tr` trace files using the preprocessing script `process-trace.sh`. \n",
    "\n",
    "The `pandas` library is used to import the CSV file as a Dataframe. Pandas is a data science tool used for exploring and manipulating data. The `numpy` library is also imported to be used in conjuction with `pandas` to manipulate the Dataframe."
   ],
   "cell_type": "markdown",
   "metadata": {}
  },
  {
   "cell_type": "code",
   "execution_count": 15,
   "metadata": {},
   "outputs": [],
   "source": [
    "import numpy as np\n",
    "import pandas as pd\n",
    "\n",
    "with open('preprocessing/jobs.csv') as file:\n",
    "    data = pd.read_csv(file)\n",
    "\n",
    "data.set_index('job_id', inplace=True)"
   ]
  },
  {
   "source": [
    "## How the data looks\n",
    "\n",
    "As we can see below, the `jobs.csv` data has four fields: fields: 'job_id', 'job_submission_time', 'nr_of_tasks_in_job', and 'average_task_duration'.\n",
    "\n",
    "Starting from time 0, each record contains a timestamp for either when a new job is submitted to the system. This give us a list of jobs in the workload trace."
   ],
   "cell_type": "markdown",
   "metadata": {}
  },
  {
   "cell_type": "code",
   "execution_count": 16,
   "metadata": {},
   "outputs": [
    {
     "output_type": "stream",
     "name": "stdout",
     "text": [
      "<class 'pandas.core.frame.DataFrame'>\nInt64Index: 24262 entries, 0 to 24261\nData columns (total 3 columns):\n #   Column                 Non-Null Count  Dtype  \n---  ------                 --------------  -----  \n 0   job_submission_time    24262 non-null  float64\n 1   nr_of_tasks_in_job     24262 non-null  int64  \n 2   average_task_duration  24262 non-null  float64\ndtypes: float64(2), int64(1)\nmemory usage: 758.2 KB\n"
     ]
    }
   ],
   "source": [
    "data.info()"
   ]
  },
  {
   "cell_type": "code",
   "execution_count": 17,
   "metadata": {},
   "outputs": [
    {
     "output_type": "execute_result",
     "data": {
      "text/plain": [
       "        job_submission_time  nr_of_tasks_in_job  average_task_duration\n",
       "job_id                                                                \n",
       "0                     7.527                  51              15.948893\n",
       "1                    15.092                  34               8.723592\n",
       "2                    22.650                  24              22.139817\n",
       "3                    30.004                   5               1.027298\n",
       "4                    37.425                   3              19.411553"
      ],
      "text/html": "<div>\n<style scoped>\n    .dataframe tbody tr th:only-of-type {\n        vertical-align: middle;\n    }\n\n    .dataframe tbody tr th {\n        vertical-align: top;\n    }\n\n    .dataframe thead th {\n        text-align: right;\n    }\n</style>\n<table border=\"1\" class=\"dataframe\">\n  <thead>\n    <tr style=\"text-align: right;\">\n      <th></th>\n      <th>job_submission_time</th>\n      <th>nr_of_tasks_in_job</th>\n      <th>average_task_duration</th>\n    </tr>\n    <tr>\n      <th>job_id</th>\n      <th></th>\n      <th></th>\n      <th></th>\n    </tr>\n  </thead>\n  <tbody>\n    <tr>\n      <th>0</th>\n      <td>7.527</td>\n      <td>51</td>\n      <td>15.948893</td>\n    </tr>\n    <tr>\n      <th>1</th>\n      <td>15.092</td>\n      <td>34</td>\n      <td>8.723592</td>\n    </tr>\n    <tr>\n      <th>2</th>\n      <td>22.650</td>\n      <td>24</td>\n      <td>22.139817</td>\n    </tr>\n    <tr>\n      <th>3</th>\n      <td>30.004</td>\n      <td>5</td>\n      <td>1.027298</td>\n    </tr>\n    <tr>\n      <th>4</th>\n      <td>37.425</td>\n      <td>3</td>\n      <td>19.411553</td>\n    </tr>\n  </tbody>\n</table>\n</div>"
     },
     "metadata": {},
     "execution_count": 17
    }
   ],
   "source": [
    "data.head()"
   ]
  },
  {
   "cell_type": "code",
   "execution_count": 18,
   "metadata": {},
   "outputs": [
    {
     "output_type": "execute_result",
     "data": {
      "text/plain": [
       "        job_submission_time  nr_of_tasks_in_job  average_task_duration\n",
       "job_id                                                                \n",
       "24257              181410.0                  81              27.690639\n",
       "24258              181418.0                   7              10.193665\n",
       "24259              181425.0                  26              27.222939\n",
       "24260              181433.0                   1            1085.223348\n",
       "24261              181440.0                  19               6.994636"
      ],
      "text/html": "<div>\n<style scoped>\n    .dataframe tbody tr th:only-of-type {\n        vertical-align: middle;\n    }\n\n    .dataframe tbody tr th {\n        vertical-align: top;\n    }\n\n    .dataframe thead th {\n        text-align: right;\n    }\n</style>\n<table border=\"1\" class=\"dataframe\">\n  <thead>\n    <tr style=\"text-align: right;\">\n      <th></th>\n      <th>job_submission_time</th>\n      <th>nr_of_tasks_in_job</th>\n      <th>average_task_duration</th>\n    </tr>\n    <tr>\n      <th>job_id</th>\n      <th></th>\n      <th></th>\n      <th></th>\n    </tr>\n  </thead>\n  <tbody>\n    <tr>\n      <th>24257</th>\n      <td>181410.0</td>\n      <td>81</td>\n      <td>27.690639</td>\n    </tr>\n    <tr>\n      <th>24258</th>\n      <td>181418.0</td>\n      <td>7</td>\n      <td>10.193665</td>\n    </tr>\n    <tr>\n      <th>24259</th>\n      <td>181425.0</td>\n      <td>26</td>\n      <td>27.222939</td>\n    </tr>\n    <tr>\n      <th>24260</th>\n      <td>181433.0</td>\n      <td>1</td>\n      <td>1085.223348</td>\n    </tr>\n    <tr>\n      <th>24261</th>\n      <td>181440.0</td>\n      <td>19</td>\n      <td>6.994636</td>\n    </tr>\n  </tbody>\n</table>\n</div>"
     },
     "metadata": {},
     "execution_count": 18
    }
   ],
   "source": [
    "data.tail()"
   ]
  },
  {
   "source": [
    "## Statistics\n",
    "\n",
    "Below are some general statistical mesaures of the data."
   ],
   "cell_type": "markdown",
   "metadata": {}
  },
  {
   "cell_type": "code",
   "execution_count": 19,
   "metadata": {},
   "outputs": [
    {
     "output_type": "execute_result",
     "data": {
      "text/plain": [
       "       job_submission_time  nr_of_tasks_in_job  average_task_duration\n",
       "count         24262.000000        24262.000000           24262.000000\n",
       "mean          90727.482251           39.911590             118.784488\n",
       "std           52376.743597          153.444104             526.209199\n",
       "min               7.527000            1.000000               0.004283\n",
       "25%           45372.075000            6.000000               6.456153\n",
       "50%           90727.000000           15.000000              15.619042\n",
       "75%          136084.000000           31.000000              34.323011\n",
       "max          181440.000000         5900.000000           20512.714086"
      ],
      "text/html": "<div>\n<style scoped>\n    .dataframe tbody tr th:only-of-type {\n        vertical-align: middle;\n    }\n\n    .dataframe tbody tr th {\n        vertical-align: top;\n    }\n\n    .dataframe thead th {\n        text-align: right;\n    }\n</style>\n<table border=\"1\" class=\"dataframe\">\n  <thead>\n    <tr style=\"text-align: right;\">\n      <th></th>\n      <th>job_submission_time</th>\n      <th>nr_of_tasks_in_job</th>\n      <th>average_task_duration</th>\n    </tr>\n  </thead>\n  <tbody>\n    <tr>\n      <th>count</th>\n      <td>24262.000000</td>\n      <td>24262.000000</td>\n      <td>24262.000000</td>\n    </tr>\n    <tr>\n      <th>mean</th>\n      <td>90727.482251</td>\n      <td>39.911590</td>\n      <td>118.784488</td>\n    </tr>\n    <tr>\n      <th>std</th>\n      <td>52376.743597</td>\n      <td>153.444104</td>\n      <td>526.209199</td>\n    </tr>\n    <tr>\n      <th>min</th>\n      <td>7.527000</td>\n      <td>1.000000</td>\n      <td>0.004283</td>\n    </tr>\n    <tr>\n      <th>25%</th>\n      <td>45372.075000</td>\n      <td>6.000000</td>\n      <td>6.456153</td>\n    </tr>\n    <tr>\n      <th>50%</th>\n      <td>90727.000000</td>\n      <td>15.000000</td>\n      <td>15.619042</td>\n    </tr>\n    <tr>\n      <th>75%</th>\n      <td>136084.000000</td>\n      <td>31.000000</td>\n      <td>34.323011</td>\n    </tr>\n    <tr>\n      <th>max</th>\n      <td>181440.000000</td>\n      <td>5900.000000</td>\n      <td>20512.714086</td>\n    </tr>\n  </tbody>\n</table>\n</div>"
     },
     "metadata": {},
     "execution_count": 19
    }
   ],
   "source": [
    "data.describe()"
   ]
  },
  {
   "cell_type": "code",
   "execution_count": null,
   "metadata": {},
   "outputs": [],
   "source": []
  }
 ]
}